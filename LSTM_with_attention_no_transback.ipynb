{
 "cells": [
  {
   "cell_type": "code",
   "execution_count": null,
   "id": "260b1667",
   "metadata": {},
   "outputs": [
    {
     "name": "stdout",
     "output_type": "stream",
     "text": [
      "Empty DataFrame\n",
      "Columns: [date, ticker, VOL, Momentum, sentiment_score, GDP, CPI, Unemployment Rate, Federal Funds Rate, Personal Consumption Expenditures, Industrial Production, Retail Sales, M2 Money Stock, VIX, TED Spread, execid, gvkey_fund, permno_fund, bm, divyield, capei, gpm, npm, roa, roe, capital_ratio, de_ratio, quick_ratio, inv_turn, distcd, log_vol, ticker_encoded]\n",
      "Index: []\n",
      "\n",
      "[0 rows x 32 columns]\n"
     ]
    },
    {
     "name": "stderr",
     "output_type": "stream",
     "text": [
      "Epoch 1/50 - Training: 100%|██████████| 10600/10600 [02:41<00:00, 65.67it/s, loss=0.27]  \n",
      "Epoch 1/50 - Validation: 100%|██████████| 2663/2663 [00:12<00:00, 220.05it/s, val_loss=0.248] \n"
     ]
    },
    {
     "name": "stdout",
     "output_type": "stream",
     "text": [
      "Epoch 1/50 | Train Loss: 29.900049 | Val Loss: 2.228279\n"
     ]
    },
    {
     "name": "stderr",
     "output_type": "stream",
     "text": [
      "Epoch 2/50 - Training: 100%|██████████| 10600/10600 [03:09<00:00, 56.04it/s, loss=0.395] \n",
      "Epoch 2/50 - Validation: 100%|██████████| 2663/2663 [00:14<00:00, 179.85it/s, val_loss=0.172] \n"
     ]
    },
    {
     "name": "stdout",
     "output_type": "stream",
     "text": [
      "Epoch 2/50 | Train Loss: 1.640846 | Val Loss: 1.996248\n"
     ]
    },
    {
     "name": "stderr",
     "output_type": "stream",
     "text": [
      "Epoch 3/50 - Training: 100%|██████████| 10600/10600 [03:28<00:00, 50.81it/s, loss=0.492] \n",
      "Epoch 3/50 - Validation: 100%|██████████| 2663/2663 [00:16<00:00, 157.98it/s, val_loss=0.156] \n"
     ]
    },
    {
     "name": "stdout",
     "output_type": "stream",
     "text": [
      "Epoch 3/50 | Train Loss: 1.556029 | Val Loss: 1.879429\n"
     ]
    },
    {
     "name": "stderr",
     "output_type": "stream",
     "text": [
      "Epoch 4/50 - Training: 100%|██████████| 10600/10600 [03:16<00:00, 54.00it/s, loss=0.457] \n",
      "Epoch 4/50 - Validation: 100%|██████████| 2663/2663 [00:12<00:00, 214.82it/s, val_loss=0.157] \n"
     ]
    },
    {
     "name": "stdout",
     "output_type": "stream",
     "text": [
      "Epoch 4/50 | Train Loss: 1.515609 | Val Loss: 1.765822\n"
     ]
    },
    {
     "name": "stderr",
     "output_type": "stream",
     "text": [
      "Epoch 5/50 - Training: 100%|██████████| 10600/10600 [03:39<00:00, 48.26it/s, loss=0.449] \n",
      "Epoch 5/50 - Validation: 100%|██████████| 2663/2663 [00:16<00:00, 160.29it/s, val_loss=0.16]  \n"
     ]
    },
    {
     "name": "stdout",
     "output_type": "stream",
     "text": [
      "Epoch 5/50 | Train Loss: 1.488456 | Val Loss: 1.672822\n"
     ]
    },
    {
     "name": "stderr",
     "output_type": "stream",
     "text": [
      "Epoch 6/50 - Training: 100%|██████████| 10600/10600 [03:51<00:00, 45.88it/s, loss=0.442] \n",
      "Epoch 6/50 - Validation: 100%|██████████| 2663/2663 [00:19<00:00, 133.91it/s, val_loss=0.153] \n"
     ]
    },
    {
     "name": "stdout",
     "output_type": "stream",
     "text": [
      "Epoch 6/50 | Train Loss: 1.465283 | Val Loss: 1.598434\n"
     ]
    },
    {
     "name": "stderr",
     "output_type": "stream",
     "text": [
      "Epoch 7/50 - Training: 100%|██████████| 10600/10600 [03:43<00:00, 47.43it/s, loss=0.448] \n",
      "Epoch 7/50 - Validation: 100%|██████████| 2663/2663 [00:20<00:00, 131.19it/s, val_loss=0.149] \n"
     ]
    },
    {
     "name": "stdout",
     "output_type": "stream",
     "text": [
      "Epoch 7/50 | Train Loss: 1.448160 | Val Loss: 1.546652\n"
     ]
    },
    {
     "name": "stderr",
     "output_type": "stream",
     "text": [
      "Epoch 8/50 - Training: 100%|██████████| 10600/10600 [03:36<00:00, 48.93it/s, loss=0.416] \n",
      "Epoch 8/50 - Validation: 100%|██████████| 2663/2663 [00:14<00:00, 189.37it/s, val_loss=0.15]  \n"
     ]
    },
    {
     "name": "stdout",
     "output_type": "stream",
     "text": [
      "Epoch 8/50 | Train Loss: 1.433701 | Val Loss: 1.514433\n"
     ]
    },
    {
     "name": "stderr",
     "output_type": "stream",
     "text": [
      "Epoch 9/50 - Training: 100%|██████████| 10600/10600 [03:33<00:00, 49.66it/s, loss=0.402] \n",
      "Epoch 9/50 - Validation: 100%|██████████| 2663/2663 [00:13<00:00, 193.47it/s, val_loss=0.153] \n"
     ]
    },
    {
     "name": "stdout",
     "output_type": "stream",
     "text": [
      "Epoch 9/50 | Train Loss: 1.420438 | Val Loss: 1.491914\n"
     ]
    },
    {
     "name": "stderr",
     "output_type": "stream",
     "text": [
      "Epoch 10/50 - Training: 100%|██████████| 10600/10600 [03:34<00:00, 49.37it/s, loss=0.363] \n",
      "Epoch 10/50 - Validation: 100%|██████████| 2663/2663 [00:16<00:00, 163.96it/s, val_loss=0.156] \n"
     ]
    },
    {
     "name": "stdout",
     "output_type": "stream",
     "text": [
      "Epoch 10/50 | Train Loss: 1.405925 | Val Loss: 1.472379\n"
     ]
    },
    {
     "name": "stderr",
     "output_type": "stream",
     "text": [
      "Epoch 11/50 - Training: 100%|██████████| 10600/10600 [03:06<00:00, 56.85it/s, loss=0.417] \n",
      "Epoch 11/50 - Validation: 100%|██████████| 2663/2663 [00:09<00:00, 269.82it/s, val_loss=0.159] \n"
     ]
    },
    {
     "name": "stdout",
     "output_type": "stream",
     "text": [
      "Epoch 11/50 | Train Loss: 1.393127 | Val Loss: 1.459982\n"
     ]
    },
    {
     "name": "stderr",
     "output_type": "stream",
     "text": [
      "Epoch 12/50 - Training: 100%|██████████| 10600/10600 [02:54<00:00, 60.73it/s, loss=0.404] \n",
      "Epoch 12/50 - Validation: 100%|██████████| 2663/2663 [00:13<00:00, 201.47it/s, val_loss=0.159] \n"
     ]
    },
    {
     "name": "stdout",
     "output_type": "stream",
     "text": [
      "Epoch 12/50 | Train Loss: 1.380657 | Val Loss: 1.458381\n"
     ]
    },
    {
     "name": "stderr",
     "output_type": "stream",
     "text": [
      "Epoch 13/50 - Training: 100%|██████████| 10600/10600 [03:47<00:00, 46.51it/s, loss=0.403] \n",
      "Epoch 13/50 - Validation: 100%|██████████| 2663/2663 [00:16<00:00, 157.30it/s, val_loss=0.16]  \n"
     ]
    },
    {
     "name": "stdout",
     "output_type": "stream",
     "text": [
      "Epoch 13/50 | Train Loss: 1.368587 | Val Loss: 1.456734\n"
     ]
    },
    {
     "name": "stderr",
     "output_type": "stream",
     "text": [
      "Epoch 14/50 - Training: 100%|██████████| 10600/10600 [03:09<00:00, 55.93it/s, loss=0.419] \n",
      "Epoch 14/50 - Validation: 100%|██████████| 2663/2663 [00:13<00:00, 194.75it/s, val_loss=0.158] \n"
     ]
    },
    {
     "name": "stdout",
     "output_type": "stream",
     "text": [
      "Epoch 14/50 | Train Loss: 1.357308 | Val Loss: 1.450103\n"
     ]
    },
    {
     "name": "stderr",
     "output_type": "stream",
     "text": [
      "Epoch 15/50 - Training: 100%|██████████| 10600/10600 [02:42<00:00, 65.24it/s, loss=0.383] \n",
      "Epoch 15/50 - Validation: 100%|██████████| 2663/2663 [00:09<00:00, 267.74it/s, val_loss=0.16]  \n"
     ]
    },
    {
     "name": "stdout",
     "output_type": "stream",
     "text": [
      "Epoch 15/50 | Train Loss: 1.346098 | Val Loss: 1.445479\n"
     ]
    },
    {
     "name": "stderr",
     "output_type": "stream",
     "text": [
      "Epoch 16/50 - Training: 100%|██████████| 10600/10600 [02:26<00:00, 72.49it/s, loss=0.406] \n",
      "Epoch 16/50 - Validation: 100%|██████████| 2663/2663 [00:10<00:00, 265.76it/s, val_loss=0.158] \n"
     ]
    },
    {
     "name": "stdout",
     "output_type": "stream",
     "text": [
      "Epoch 16/50 | Train Loss: 1.333617 | Val Loss: 1.441531\n"
     ]
    },
    {
     "name": "stderr",
     "output_type": "stream",
     "text": [
      "Epoch 17/50 - Training: 100%|██████████| 10600/10600 [02:30<00:00, 70.61it/s, loss=0.414] \n",
      "Epoch 17/50 - Validation: 100%|██████████| 2663/2663 [00:16<00:00, 158.17it/s, val_loss=0.155] \n"
     ]
    },
    {
     "name": "stdout",
     "output_type": "stream",
     "text": [
      "Epoch 17/50 | Train Loss: 1.323315 | Val Loss: 1.435712\n"
     ]
    },
    {
     "name": "stderr",
     "output_type": "stream",
     "text": [
      "Epoch 18/50 - Training: 100%|██████████| 10600/10600 [06:35<00:00, 26.77it/s, loss=0.451] \n",
      "Epoch 18/50 - Validation: 100%|██████████| 2663/2663 [00:17<00:00, 152.22it/s, val_loss=0.149] \n"
     ]
    },
    {
     "name": "stdout",
     "output_type": "stream",
     "text": [
      "Epoch 18/50 | Train Loss: 1.314522 | Val Loss: 1.430066\n"
     ]
    },
    {
     "name": "stderr",
     "output_type": "stream",
     "text": [
      "Epoch 19/50 - Training: 100%|██████████| 10600/10600 [03:44<00:00, 47.11it/s, loss=0.443] \n",
      "Epoch 19/50 - Validation: 100%|██████████| 2663/2663 [00:17<00:00, 151.60it/s, val_loss=0.143] \n"
     ]
    },
    {
     "name": "stdout",
     "output_type": "stream",
     "text": [
      "Epoch 19/50 | Train Loss: 1.304878 | Val Loss: 1.424635\n"
     ]
    },
    {
     "name": "stderr",
     "output_type": "stream",
     "text": [
      "Epoch 20/50 - Training: 100%|██████████| 10600/10600 [03:42<00:00, 47.70it/s, loss=0.499] \n",
      "Epoch 20/50 - Validation: 100%|██████████| 2663/2663 [00:16<00:00, 162.76it/s, val_loss=0.139] \n"
     ]
    },
    {
     "name": "stdout",
     "output_type": "stream",
     "text": [
      "Epoch 20/50 | Train Loss: 1.296704 | Val Loss: 1.419664\n"
     ]
    },
    {
     "name": "stderr",
     "output_type": "stream",
     "text": [
      "Epoch 21/50 - Training: 100%|██████████| 10600/10600 [03:37<00:00, 48.70it/s, loss=0.503] \n",
      "Epoch 21/50 - Validation: 100%|██████████| 2663/2663 [00:09<00:00, 273.34it/s, val_loss=0.138] \n"
     ]
    },
    {
     "name": "stdout",
     "output_type": "stream",
     "text": [
      "Epoch 21/50 | Train Loss: 1.287101 | Val Loss: 1.413642\n"
     ]
    },
    {
     "name": "stderr",
     "output_type": "stream",
     "text": [
      "Epoch 22/50 - Training: 100%|██████████| 10600/10600 [02:26<00:00, 72.29it/s, loss=0.512] \n",
      "Epoch 22/50 - Validation: 100%|██████████| 2663/2663 [00:12<00:00, 213.23it/s, val_loss=0.134] \n"
     ]
    },
    {
     "name": "stdout",
     "output_type": "stream",
     "text": [
      "Epoch 22/50 | Train Loss: 1.277168 | Val Loss: 1.407096\n"
     ]
    },
    {
     "name": "stderr",
     "output_type": "stream",
     "text": [
      "Epoch 23/50 - Training: 100%|██████████| 10600/10600 [02:53<00:00, 60.93it/s, loss=0.452] \n",
      "Epoch 23/50 - Validation: 100%|██████████| 2663/2663 [00:12<00:00, 214.35it/s, val_loss=0.133] \n"
     ]
    },
    {
     "name": "stdout",
     "output_type": "stream",
     "text": [
      "Epoch 23/50 | Train Loss: 1.268565 | Val Loss: 1.402488\n"
     ]
    },
    {
     "name": "stderr",
     "output_type": "stream",
     "text": [
      "Epoch 24/50 - Training: 100%|██████████| 10600/10600 [02:59<00:00, 59.02it/s, loss=0.589] \n",
      "Epoch 24/50 - Validation: 100%|██████████| 2663/2663 [00:15<00:00, 171.06it/s, val_loss=0.131] \n"
     ]
    },
    {
     "name": "stdout",
     "output_type": "stream",
     "text": [
      "Epoch 24/50 | Train Loss: 1.260051 | Val Loss: 1.396332\n"
     ]
    },
    {
     "name": "stderr",
     "output_type": "stream",
     "text": [
      "Epoch 25/50 - Training: 100%|██████████| 10600/10600 [03:18<00:00, 53.41it/s, loss=0.441] \n",
      "Epoch 25/50 - Validation: 100%|██████████| 2663/2663 [00:17<00:00, 154.42it/s, val_loss=0.129] \n"
     ]
    },
    {
     "name": "stdout",
     "output_type": "stream",
     "text": [
      "Epoch 25/50 | Train Loss: 1.252029 | Val Loss: 1.393105\n"
     ]
    },
    {
     "name": "stderr",
     "output_type": "stream",
     "text": [
      "Epoch 26/50 - Training: 100%|██████████| 10600/10600 [03:25<00:00, 51.55it/s, loss=0.495] \n",
      "Epoch 26/50 - Validation: 100%|██████████| 2663/2663 [00:15<00:00, 169.88it/s, val_loss=0.129] \n"
     ]
    },
    {
     "name": "stdout",
     "output_type": "stream",
     "text": [
      "Epoch 26/50 | Train Loss: 1.244180 | Val Loss: 1.388434\n"
     ]
    },
    {
     "name": "stderr",
     "output_type": "stream",
     "text": [
      "Epoch 27/50 - Training: 100%|██████████| 10600/10600 [03:22<00:00, 52.23it/s, loss=0.597] \n",
      "Epoch 27/50 - Validation: 100%|██████████| 2663/2663 [00:15<00:00, 172.59it/s, val_loss=0.129] \n"
     ]
    },
    {
     "name": "stdout",
     "output_type": "stream",
     "text": [
      "Epoch 27/50 | Train Loss: 1.236298 | Val Loss: 1.385001\n"
     ]
    },
    {
     "name": "stderr",
     "output_type": "stream",
     "text": [
      "Epoch 28/50 - Training: 100%|██████████| 10600/10600 [03:23<00:00, 52.13it/s, loss=0.572] \n",
      "Epoch 28/50 - Validation: 100%|██████████| 2663/2663 [00:17<00:00, 153.72it/s, val_loss=0.131] \n"
     ]
    },
    {
     "name": "stdout",
     "output_type": "stream",
     "text": [
      "Epoch 28/50 | Train Loss: 1.228808 | Val Loss: 1.383800\n"
     ]
    },
    {
     "name": "stderr",
     "output_type": "stream",
     "text": [
      "Epoch 29/50 - Training: 100%|██████████| 10600/10600 [02:38<00:00, 66.84it/s, loss=0.572] \n",
      "Epoch 29/50 - Validation: 100%|██████████| 2663/2663 [00:12<00:00, 207.55it/s, val_loss=0.134] \n"
     ]
    },
    {
     "name": "stdout",
     "output_type": "stream",
     "text": [
      "Epoch 29/50 | Train Loss: 1.220450 | Val Loss: 1.383173\n"
     ]
    },
    {
     "name": "stderr",
     "output_type": "stream",
     "text": [
      "Epoch 30/50 - Training: 100%|██████████| 10600/10600 [03:02<00:00, 58.00it/s, loss=0.517] \n",
      "Epoch 30/50 - Validation: 100%|██████████| 2663/2663 [00:13<00:00, 194.87it/s, val_loss=0.138] \n"
     ]
    },
    {
     "name": "stdout",
     "output_type": "stream",
     "text": [
      "Epoch 30/50 | Train Loss: 1.212529 | Val Loss: 1.379278\n"
     ]
    },
    {
     "name": "stderr",
     "output_type": "stream",
     "text": [
      "Epoch 31/50 - Training: 100%|██████████| 10600/10600 [03:05<00:00, 57.15it/s, loss=0.548] \n",
      "Epoch 31/50 - Validation: 100%|██████████| 2663/2663 [00:14<00:00, 190.06it/s, val_loss=0.141] \n"
     ]
    },
    {
     "name": "stdout",
     "output_type": "stream",
     "text": [
      "Epoch 31/50 | Train Loss: 1.207352 | Val Loss: 1.376640\n"
     ]
    },
    {
     "name": "stderr",
     "output_type": "stream",
     "text": [
      "Epoch 32/50 - Training: 100%|██████████| 10600/10600 [02:33<00:00, 68.93it/s, loss=0.551] \n",
      "Epoch 32/50 - Validation: 100%|██████████| 2663/2663 [00:12<00:00, 213.66it/s, val_loss=0.145] \n"
     ]
    },
    {
     "name": "stdout",
     "output_type": "stream",
     "text": [
      "Epoch 32/50 | Train Loss: 1.200685 | Val Loss: 1.373430\n"
     ]
    },
    {
     "name": "stderr",
     "output_type": "stream",
     "text": [
      "Epoch 33/50 - Training: 100%|██████████| 10600/10600 [02:54<00:00, 60.84it/s, loss=0.538] \n",
      "Epoch 33/50 - Validation: 100%|██████████| 2663/2663 [00:09<00:00, 277.95it/s, val_loss=0.146] \n"
     ]
    },
    {
     "name": "stdout",
     "output_type": "stream",
     "text": [
      "Epoch 33/50 | Train Loss: 1.194870 | Val Loss: 1.369557\n"
     ]
    },
    {
     "name": "stderr",
     "output_type": "stream",
     "text": [
      "Epoch 34/50 - Training: 100%|██████████| 10600/10600 [02:35<00:00, 68.03it/s, loss=0.557] \n",
      "Epoch 34/50 - Validation: 100%|██████████| 2663/2663 [00:09<00:00, 281.15it/s, val_loss=0.148] \n"
     ]
    },
    {
     "name": "stdout",
     "output_type": "stream",
     "text": [
      "Epoch 34/50 | Train Loss: 1.187504 | Val Loss: 1.363989\n"
     ]
    },
    {
     "name": "stderr",
     "output_type": "stream",
     "text": [
      "Epoch 35/50 - Training: 100%|██████████| 10600/10600 [02:37<00:00, 67.39it/s, loss=0.569] \n",
      "Epoch 35/50 - Validation: 100%|██████████| 2663/2663 [00:12<00:00, 206.89it/s, val_loss=0.148] \n"
     ]
    },
    {
     "name": "stdout",
     "output_type": "stream",
     "text": [
      "Epoch 35/50 | Train Loss: 1.182274 | Val Loss: 1.358893\n"
     ]
    },
    {
     "name": "stderr",
     "output_type": "stream",
     "text": [
      "Epoch 36/50 - Training: 100%|██████████| 10600/10600 [02:53<00:00, 61.00it/s, loss=0.575] \n",
      "Epoch 36/50 - Validation: 100%|██████████| 2663/2663 [00:13<00:00, 201.45it/s, val_loss=0.149] \n"
     ]
    },
    {
     "name": "stdout",
     "output_type": "stream",
     "text": [
      "Epoch 36/50 | Train Loss: 1.176476 | Val Loss: 1.354293\n"
     ]
    },
    {
     "name": "stderr",
     "output_type": "stream",
     "text": [
      "Epoch 37/50 - Training: 100%|██████████| 10600/10600 [03:00<00:00, 58.73it/s, loss=0.493] \n",
      "Epoch 37/50 - Validation: 100%|██████████| 2663/2663 [00:13<00:00, 194.79it/s, val_loss=0.147] \n"
     ]
    },
    {
     "name": "stdout",
     "output_type": "stream",
     "text": [
      "Epoch 37/50 | Train Loss: 1.170862 | Val Loss: 1.350578\n"
     ]
    },
    {
     "name": "stderr",
     "output_type": "stream",
     "text": [
      "Epoch 38/50 - Training: 100%|██████████| 10600/10600 [02:41<00:00, 65.71it/s, loss=0.578] \n",
      "Epoch 38/50 - Validation: 100%|██████████| 2663/2663 [00:12<00:00, 205.27it/s, val_loss=0.151] \n"
     ]
    },
    {
     "name": "stdout",
     "output_type": "stream",
     "text": [
      "Epoch 38/50 | Train Loss: 1.164453 | Val Loss: 1.346618\n"
     ]
    },
    {
     "name": "stderr",
     "output_type": "stream",
     "text": [
      "Epoch 39/50 - Training: 100%|██████████| 10600/10600 [02:53<00:00, 61.04it/s, loss=0.563] \n",
      "Epoch 39/50 - Validation: 100%|██████████| 2663/2663 [00:12<00:00, 207.83it/s, val_loss=0.15]  \n"
     ]
    },
    {
     "name": "stdout",
     "output_type": "stream",
     "text": [
      "Epoch 39/50 | Train Loss: 1.158889 | Val Loss: 1.341957\n"
     ]
    },
    {
     "name": "stderr",
     "output_type": "stream",
     "text": [
      "Epoch 40/50 - Training: 100%|██████████| 10600/10600 [02:49<00:00, 62.57it/s, loss=0.511] \n",
      "Epoch 40/50 - Validation: 100%|██████████| 2663/2663 [00:12<00:00, 214.70it/s, val_loss=0.15]  \n"
     ]
    },
    {
     "name": "stdout",
     "output_type": "stream",
     "text": [
      "Epoch 40/50 | Train Loss: 1.152416 | Val Loss: 1.339041\n"
     ]
    },
    {
     "name": "stderr",
     "output_type": "stream",
     "text": [
      "Epoch 41/50 - Training: 100%|██████████| 10600/10600 [02:49<00:00, 62.54it/s, loss=0.534] \n",
      "Epoch 41/50 - Validation: 100%|██████████| 2663/2663 [00:12<00:00, 213.35it/s, val_loss=0.154] \n"
     ]
    },
    {
     "name": "stdout",
     "output_type": "stream",
     "text": [
      "Epoch 41/50 | Train Loss: 1.146667 | Val Loss: 1.334781\n"
     ]
    },
    {
     "name": "stderr",
     "output_type": "stream",
     "text": [
      "Epoch 42/50 - Training: 100%|██████████| 10600/10600 [02:50<00:00, 62.29it/s, loss=0.562] \n",
      "Epoch 42/50 - Validation: 100%|██████████| 2663/2663 [00:12<00:00, 208.49it/s, val_loss=0.152] \n"
     ]
    },
    {
     "name": "stdout",
     "output_type": "stream",
     "text": [
      "Epoch 42/50 | Train Loss: 1.140253 | Val Loss: 1.331763\n"
     ]
    },
    {
     "name": "stderr",
     "output_type": "stream",
     "text": [
      "Epoch 43/50 - Training: 100%|██████████| 10600/10600 [03:12<00:00, 55.04it/s, loss=0.622] \n",
      "Epoch 43/50 - Validation: 100%|██████████| 2663/2663 [00:17<00:00, 156.22it/s, val_loss=0.154] \n"
     ]
    },
    {
     "name": "stdout",
     "output_type": "stream",
     "text": [
      "Epoch 43/50 | Train Loss: 1.133867 | Val Loss: 1.327338\n"
     ]
    },
    {
     "name": "stderr",
     "output_type": "stream",
     "text": [
      "Epoch 44/50 - Training: 100%|██████████| 10600/10600 [03:45<00:00, 46.95it/s, loss=0.57]  \n",
      "Epoch 44/50 - Validation: 100%|██████████| 2663/2663 [00:09<00:00, 289.68it/s, val_loss=0.154] \n"
     ]
    },
    {
     "name": "stdout",
     "output_type": "stream",
     "text": [
      "Epoch 44/50 | Train Loss: 1.126605 | Val Loss: 1.323510\n"
     ]
    },
    {
     "name": "stderr",
     "output_type": "stream",
     "text": [
      "Epoch 45/50 - Training: 100%|██████████| 10600/10600 [02:56<00:00, 60.16it/s, loss=0.622] \n",
      "Epoch 45/50 - Validation: 100%|██████████| 2663/2663 [00:12<00:00, 210.34it/s, val_loss=0.154] \n"
     ]
    },
    {
     "name": "stdout",
     "output_type": "stream",
     "text": [
      "Epoch 45/50 | Train Loss: 1.119753 | Val Loss: 1.318375\n"
     ]
    },
    {
     "name": "stderr",
     "output_type": "stream",
     "text": [
      "Epoch 46/50 - Training: 100%|██████████| 10600/10600 [02:56<00:00, 60.05it/s, loss=0.544] \n",
      "Epoch 46/50 - Validation: 100%|██████████| 2663/2663 [00:12<00:00, 208.93it/s, val_loss=0.152] \n"
     ]
    },
    {
     "name": "stdout",
     "output_type": "stream",
     "text": [
      "Epoch 46/50 | Train Loss: 1.111988 | Val Loss: 1.313039\n"
     ]
    },
    {
     "name": "stderr",
     "output_type": "stream",
     "text": [
      "Epoch 47/50 - Training: 100%|██████████| 10600/10600 [03:00<00:00, 58.70it/s, loss=0.595] \n",
      "Epoch 47/50 - Validation: 100%|██████████| 2663/2663 [00:12<00:00, 211.90it/s, val_loss=0.155] \n"
     ]
    },
    {
     "name": "stdout",
     "output_type": "stream",
     "text": [
      "Epoch 47/50 | Train Loss: 1.104679 | Val Loss: 1.309372\n"
     ]
    },
    {
     "name": "stderr",
     "output_type": "stream",
     "text": [
      "Epoch 48/50 - Training: 100%|██████████| 10600/10600 [02:55<00:00, 60.25it/s, loss=0.609] \n",
      "Epoch 48/50 - Validation: 100%|██████████| 2663/2663 [00:12<00:00, 210.77it/s, val_loss=0.155] \n"
     ]
    },
    {
     "name": "stdout",
     "output_type": "stream",
     "text": [
      "Epoch 48/50 | Train Loss: 1.097977 | Val Loss: 1.303702\n"
     ]
    },
    {
     "name": "stderr",
     "output_type": "stream",
     "text": [
      "Epoch 49/50 - Training: 100%|██████████| 10600/10600 [02:52<00:00, 61.34it/s, loss=0.639] \n",
      "Epoch 49/50 - Validation: 100%|██████████| 2663/2663 [00:12<00:00, 207.52it/s, val_loss=0.161] \n"
     ]
    },
    {
     "name": "stdout",
     "output_type": "stream",
     "text": [
      "Epoch 49/50 | Train Loss: 1.089336 | Val Loss: 1.298974\n"
     ]
    },
    {
     "name": "stderr",
     "output_type": "stream",
     "text": [
      "Epoch 50/50 - Training: 100%|██████████| 10600/10600 [02:56<00:00, 59.90it/s, loss=0.628] \n",
      "Epoch 50/50 - Validation: 100%|██████████| 2663/2663 [00:12<00:00, 211.36it/s, val_loss=0.161] \n"
     ]
    },
    {
     "name": "stdout",
     "output_type": "stream",
     "text": [
      "Epoch 50/50 | Train Loss: 1.081420 | Val Loss: 1.295278\n",
      "Best model loaded with loss: 1.2952779672069072\n"
     ]
    },
    {
     "data": {
      "image/png": "[encoded data removed]",
      "text/plain": [
       "<Figure size 1200x600 with 1 Axes>"
      ]
     },
     "metadata": {},
     "output_type": "display_data"
    }
   ],
   "source": [
    "# --- Imports ---\n",
    "import torch\n",
    "import torch.nn as nn\n",
    "import pandas as pd\n",
    "import numpy as np\n",
    "from sklearn.preprocessing import StandardScaler, LabelEncoder\n",
    "from torch.utils.data import Dataset, DataLoader\n",
    "import matplotlib.pyplot as plt\n",
    "import copy\n",
    "from tqdm import tqdm\n",
    "from torch.optim.lr_scheduler import ReduceLROnPlateau\n",
    "import random\n",
    "\n",
    "SEED = 3407\n",
    "\n",
    "random.seed(SEED)\n",
    "np.random.seed(SEED)\n",
    "torch.manual_seed(SEED)\n",
    "torch.cuda.manual_seed_all(SEED)\n",
    "\n",
    "# (Optional but good practice)\n",
    "torch.backends.cudnn.deterministic = True\n",
    "torch.backends.cudnn.benchmark = False\n",
    "\n",
    "\n",
    "\n",
    "# --- Device Configuration ---\n",
    "device = torch.device('cuda' if torch.cuda.is_available() else 'cpu')\n",
    "\n",
    "# --- Load Data ---\n",
    "data = pd.read_parquet('data/volume_pred.parquet')  # adjust path if needed\n",
    "data = data.sort_values(['ticker', 'date'])\n",
    "data = data[data['VOL'] >= 1].reset_index(drop=True)\n",
    "data['sentiment_score'] = data['sentiment_score'].fillna(0)\n",
    "\n",
    "# --- Feature Engineering ---\n",
    "data['log_vol'] = np.log1p(data['VOL'])\n",
    "\n",
    "# Encode ticker\n",
    "ticker_encoder = LabelEncoder()\n",
    "data['ticker_encoded'] = ticker_encoder.fit_transform(data['ticker'])\n",
    "\n",
    "# Define features\n",
    "input_features = [col for col in data.columns if col not in ['VOL', 'date', 'ticker', 'log_vol']]\n",
    "# Drop problematic features\n",
    "problematic_features = ['execid', 'distcd']\n",
    "input_features = [col for col in input_features if col not in problematic_features]\n",
    "\n",
    "# --- Train/Test Split ---\n",
    "def train_test_split_time_series(df, stock_col='ticker', date_col='date', test_ratio=0.2):\n",
    "    train_dfs, test_dfs = [], []\n",
    "    for stock, group in df.groupby(stock_col):\n",
    "        group = group.sort_values(date_col)\n",
    "        split_idx = int(len(group) * (1 - test_ratio))\n",
    "        train_dfs.append(group.iloc[:split_idx])\n",
    "        test_dfs.append(group.iloc[split_idx:])\n",
    "    return pd.concat(train_dfs), pd.concat(test_dfs)\n",
    "\n",
    "train_data, test_data = train_test_split_time_series(data)\n",
    "\n",
    "# --- Scaling ---\n",
    "scaler = StandardScaler()\n",
    "scaler.fit(train_data[input_features])\n",
    "train_data[input_features] = scaler.transform(train_data[input_features])\n",
    "test_data[input_features] = scaler.transform(test_data[input_features])\n",
    "\n",
    "for col in input_features:\n",
    "    if not np.isfinite(train_data[col]).all():\n",
    "        print(f\"⚠️ Feature {col} has NaN or Inf after scaling!\")\n",
    "bad_rows = ~np.isfinite(train_data[input_features]).all(axis=1)\n",
    "print(train_data.loc[bad_rows])\n",
    "\n",
    "assert np.isfinite(train_data[input_features].values).all(), \"Train data has NaN or Inf!\"\n",
    "assert np.isfinite(test_data[input_features].values).all(), \"Test data has NaN or Inf!\"\n",
    "assert np.isfinite(train_data['log_vol'].values).all(), \"Train target has NaN or InF!\"\n",
    "# --- Dataset Class ---\n",
    "class StockVolumeDataset(Dataset):\n",
    "    def __init__(self, df, input_features, target_col='log_vol', time_steps=10):\n",
    "        self.features = df[input_features].values\n",
    "        self.targets = df[target_col].values\n",
    "        self.time_steps = time_steps\n",
    "        self.X, self.y = self.build_sequences()\n",
    "\n",
    "    def build_sequences(self):\n",
    "        X_seq, y_seq = [], []\n",
    "        for i in range(len(self.features) - self.time_steps):\n",
    "            X_seq.append(self.features[i:i+self.time_steps])\n",
    "            y_seq.append(self.targets[i+self.time_steps])\n",
    "        return torch.tensor(np.array(X_seq), dtype=torch.float32), torch.tensor(np.array(y_seq), dtype=torch.float32).unsqueeze(1)\n",
    "\n",
    "    def __len__(self):\n",
    "        return len(self.X)\n",
    "\n",
    "    def __getitem__(self, idx):\n",
    "        return self.X[idx], self.y[idx]\n",
    "\n",
    "# --- DataLoader ---\n",
    "time_steps = 10\n",
    "train_dataset = StockVolumeDataset(train_data, input_features, time_steps=time_steps)\n",
    "test_dataset = StockVolumeDataset(test_data, input_features, time_steps=time_steps)\n",
    "\n",
    "train_loader = DataLoader(train_dataset, batch_size=32, shuffle=False)\n",
    "test_loader = DataLoader(test_dataset, batch_size=32, shuffle=False)\n",
    "\n",
    "# --- Model with Attention ---\n",
    "class AttentionLSTM(nn.Module):\n",
    "    def __init__(self, input_size, hidden_size=128, num_layers=2, dropout=0.1):\n",
    "        super(AttentionLSTM, self).__init__()\n",
    "        self.lstm = nn.LSTM(input_size=input_size, hidden_size=hidden_size,\n",
    "                            num_layers=num_layers, batch_first=True, dropout=dropout)\n",
    "        self.attention = nn.Linear(hidden_size, 1)\n",
    "        self.fc = nn.Linear(hidden_size, 1)\n",
    "\n",
    "    def forward(self, x):\n",
    "        lstm_out, _ = self.lstm(x)\n",
    "        attn_weights = torch.softmax(self.attention(lstm_out), dim=1)\n",
    "        context_vector = torch.sum(attn_weights * lstm_out, dim=1)\n",
    "        output = self.fc(context_vector)\n",
    "        return output\n",
    "\n",
    "# --- Instantiate Model ---\n",
    "model = AttentionLSTM(input_size=len(input_features)).to(device)\n",
    "# manually initialize model weights to small random values\n",
    "def init_weights(m):\n",
    "    if isinstance(m, nn.Linear):\n",
    "        torch.nn.init.xavier_uniform_(m.weight)\n",
    "        if m.bias is not None:\n",
    "            torch.nn.init.zeros_(m.bias)\n",
    "    elif isinstance(m, nn.LSTM):\n",
    "        for name, param in m.named_parameters():\n",
    "            if 'weight_ih' in name:\n",
    "                torch.nn.init.xavier_uniform_(param.data)\n",
    "            elif 'weight_hh' in name:\n",
    "                torch.nn.init.orthogonal_(param.data)\n",
    "            elif 'bias' in name:\n",
    "                param.data.fill_(0.0)\n",
    "\n",
    "model.apply(init_weights)\n",
    "\n",
    "# --- Optimizer ---\n",
    "optimizer = torch.optim.Adam(model.parameters(), lr=1e-5, weight_decay=1e-5)\n",
    "scheduler = ReduceLROnPlateau(optimizer, mode='min', patience=2, factor=0.5, threshold=1e-4, threshold_mode='rel')\n",
    "\n",
    "# --- Other configs ---\n",
    "criterion = nn.MSELoss()\n",
    "best_model_wts = copy.deepcopy(model.state_dict())\n",
    "best_loss = np.inf\n",
    "patience = 5\n",
    "counter = 0\n",
    "num_epochs = 50\n",
    "\n",
    "# --- Start Training ---\n",
    "for epoch in range(num_epochs):\n",
    "    model.train()\n",
    "    train_losses = []\n",
    "    \n",
    "    train_loader_iter = tqdm(train_loader, desc=f\"Epoch {epoch+1}/{num_epochs} - Training\")\n",
    "    for X_batch, y_batch in train_loader_iter:\n",
    "        X_batch, y_batch = X_batch.to(device), y_batch.to(device)\n",
    "        optimizer.zero_grad()\n",
    "        \n",
    "        preds = model(X_batch)\n",
    "        loss = criterion(preds, y_batch)\n",
    "        \n",
    "        loss.backward()\n",
    "        torch.nn.utils.clip_grad_norm_(model.parameters(), max_norm=1.0)\n",
    "        optimizer.step()\n",
    "        \n",
    "        train_losses.append(loss.item())\n",
    "        \n",
    "        # --- Update tqdm description with current batch loss ---\n",
    "        train_loader_iter.set_postfix(loss=loss.item())\n",
    "    \n",
    "    # --- Validation ---\n",
    "    model.eval()\n",
    "    val_losses = []\n",
    "    \n",
    "    val_loader_iter = tqdm(test_loader, desc=f\"Epoch {epoch+1}/{num_epochs} - Validation\")\n",
    "    with torch.no_grad():\n",
    "        for X_val, y_val in val_loader_iter:\n",
    "            X_val, y_val = X_val.to(device), y_val.to(device)\n",
    "            val_preds = model(X_val)\n",
    "            val_loss = criterion(val_preds, y_val)\n",
    "            val_losses.append(val_loss.item())\n",
    "            \n",
    "            # --- Update tqdm description with current batch validation loss ---\n",
    "            val_loader_iter.set_postfix(val_loss=val_loss.item())\n",
    "\n",
    "    val_loss_epoch = np.mean(val_losses)\n",
    "    scheduler.step(val_loss_epoch)\n",
    "\n",
    "\n",
    "    # --- Monitor epoch-level result ---\n",
    "    tqdm.write(f\"Epoch {epoch+1}/{num_epochs} | Train Loss: {np.mean(train_losses):.6f} | Val Loss: {val_loss_epoch:.6f}\")\n",
    "\n",
    "    # --- NaN Detection ---\n",
    "    if np.isnan(val_loss_epoch):\n",
    "        print(\"⚠️ Validation loss became NaN! Stopping training to prevent model corruption.\")\n",
    "        break\n",
    "\n",
    "    # --- Early Stopping ---\n",
    "    if val_loss_epoch < best_loss:\n",
    "        best_loss = val_loss_epoch\n",
    "        best_model_wts = copy.deepcopy(model.state_dict())\n",
    "        counter = 0\n",
    "    else:\n",
    "        counter += 1\n",
    "        if counter >= patience:\n",
    "            print(\"✅ Early stopping triggered.\")\n",
    "            break\n",
    "\n",
    "# --- Load Best Model Weights ---\n",
    "model.load_state_dict(best_model_wts)\n",
    "print(\"Best model loaded with loss:\", best_loss)\n",
    "\n",
    "# --- Evaluation ---\n",
    "model.eval()\n",
    "pred_list, true_list = [], []\n",
    "with torch.no_grad():\n",
    "    for X_batch, y_batch in test_loader:\n",
    "        X_batch = X_batch.to(device)\n",
    "        preds = model(X_batch).cpu().numpy()\n",
    "        true_list.append(y_batch.cpu().numpy())\n",
    "        pred_list.append(preds)\n",
    "\n",
    "pred_all = np.vstack(pred_list)\n",
    "true_all = np.vstack(true_list)\n",
    "\n",
    "plt.figure(figsize=(12,6))\n",
    "plt.plot(true_all[:200], label='True log_vol')\n",
    "plt.plot(pred_all[:200], label='Predicted log_vol', linestyle='--')\n",
    "plt.title('Prediction vs True (First 200 samples)')\n",
    "plt.legend()\n",
    "plt.grid(True)\n",
    "plt.show()\n"
   ]
  },
  {
   "cell_type": "code",
   "execution_count": null,
   "id": "cbfdd1ae",
   "metadata": {},
   "outputs": [],
   "source": []
  }
 ],
 "metadata": {
  "kernelspec": {
   "display_name": "Python 3",
   "language": "python",
   "name": "python3"
  },
  "language_info": {
   "codemirror_mode": {
    "name": "ipython",
    "version": 3
   },
   "file_extension": ".py",
   "mimetype": "text/x-python",
   "name": "python",
   "nbconvert_exporter": "python",
   "pygments_lexer": "ipython3",
   "version": "3.11.11"
  }
 },
 "nbformat": 4,
 "nbformat_minor": 5
}
