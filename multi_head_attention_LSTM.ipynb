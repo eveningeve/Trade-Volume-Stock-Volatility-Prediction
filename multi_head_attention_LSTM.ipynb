{
 "cells": [
  {
   "cell_type": "code",
   "execution_count": 1,
   "id": "6d0fff9f",
   "metadata": {},
   "outputs": [
    {
     "name": "stdout",
     "output_type": "stream",
     "text": [
      "Empty DataFrame\n",
      "Columns: [date, ticker, VOL, Momentum, sentiment_score, GDP, CPI, Unemployment Rate, Federal Funds Rate, Personal Consumption Expenditures, Industrial Production, Retail Sales, M2 Money Stock, VIX, TED Spread, execid, gvkey_fund, permno_fund, bm, divyield, capei, gpm, npm, roa, roe, capital_ratio, de_ratio, quick_ratio, inv_turn, distcd, log_vol, ticker_encoded]\n",
      "Index: []\n",
      "\n",
      "[0 rows x 32 columns]\n"
     ]
    },
    {
     "name": "stderr",
     "output_type": "stream",
     "text": [
      "Epoch 1/30 [Training]: 100%|██████████| 10600/10600 [04:38<00:00, 38.02it/s, loss=1.98]  \n",
      "Epoch 1/30 [Validation]: 100%|██████████| 2663/2663 [00:15<00:00, 168.95it/s, val_loss=1.01]  \n"
     ]
    },
    {
     "name": "stdout",
     "output_type": "stream",
     "text": [
      "✅ Epoch 1/30 | Train Loss: 14.400998 | Val Loss: 1.747955\n"
     ]
    },
    {
     "name": "stderr",
     "output_type": "stream",
     "text": [
      "Epoch 2/30 [Training]: 100%|██████████| 10600/10600 [04:40<00:00, 37.76it/s, loss=1.49]  \n",
      "Epoch 2/30 [Validation]: 100%|██████████| 2663/2663 [00:16<00:00, 166.08it/s, val_loss=0.588] \n"
     ]
    },
    {
     "name": "stdout",
     "output_type": "stream",
     "text": [
      "✅ Epoch 2/30 | Train Loss: 1.596622 | Val Loss: 1.632146\n"
     ]
    },
    {
     "name": "stderr",
     "output_type": "stream",
     "text": [
      "Epoch 3/30 [Training]: 100%|██████████| 10600/10600 [04:13<00:00, 41.89it/s, loss=0.951] \n",
      "Epoch 3/30 [Validation]: 100%|██████████| 2663/2663 [00:13<00:00, 195.81it/s, val_loss=0.292] \n"
     ]
    },
    {
     "name": "stdout",
     "output_type": "stream",
     "text": [
      "✅ Epoch 3/30 | Train Loss: 1.559949 | Val Loss: 1.634913\n"
     ]
    },
    {
     "name": "stderr",
     "output_type": "stream",
     "text": [
      "Epoch 4/30 [Training]: 100%|██████████| 10600/10600 [04:51<00:00, 36.41it/s, loss=0.794] \n",
      "Epoch 4/30 [Validation]: 100%|██████████| 2663/2663 [00:16<00:00, 165.12it/s, val_loss=0.221] \n"
     ]
    },
    {
     "name": "stdout",
     "output_type": "stream",
     "text": [
      "✅ Epoch 4/30 | Train Loss: 1.531569 | Val Loss: 1.621452\n"
     ]
    },
    {
     "name": "stderr",
     "output_type": "stream",
     "text": [
      "Epoch 5/30 [Training]: 100%|██████████| 10600/10600 [04:54<00:00, 36.04it/s, loss=0.704] \n",
      "Epoch 5/30 [Validation]: 100%|██████████| 2663/2663 [00:16<00:00, 165.83it/s, val_loss=0.191] \n"
     ]
    },
    {
     "name": "stdout",
     "output_type": "stream",
     "text": [
      "✅ Epoch 5/30 | Train Loss: 1.508926 | Val Loss: 1.619940\n"
     ]
    },
    {
     "name": "stderr",
     "output_type": "stream",
     "text": [
      "Epoch 6/30 [Training]: 100%|██████████| 10600/10600 [04:41<00:00, 37.66it/s, loss=0.554] \n",
      "Epoch 6/30 [Validation]: 100%|██████████| 2663/2663 [00:17<00:00, 153.37it/s, val_loss=0.164] \n"
     ]
    },
    {
     "name": "stdout",
     "output_type": "stream",
     "text": [
      "✅ Epoch 6/30 | Train Loss: 1.491026 | Val Loss: 1.651320\n"
     ]
    },
    {
     "name": "stderr",
     "output_type": "stream",
     "text": [
      "Epoch 7/30 [Training]: 100%|██████████| 10600/10600 [06:16<00:00, 28.13it/s, loss=0.556] \n",
      "Epoch 7/30 [Validation]: 100%|██████████| 2663/2663 [00:19<00:00, 139.52it/s, val_loss=0.165] \n"
     ]
    },
    {
     "name": "stdout",
     "output_type": "stream",
     "text": [
      "✅ Epoch 7/30 | Train Loss: 1.475874 | Val Loss: 1.621758\n"
     ]
    },
    {
     "name": "stderr",
     "output_type": "stream",
     "text": [
      "Epoch 8/30 [Training]: 100%|██████████| 10600/10600 [04:52<00:00, 36.27it/s, loss=0.539] \n",
      "Epoch 8/30 [Validation]: 100%|██████████| 2663/2663 [00:16<00:00, 164.15it/s, val_loss=0.158] \n"
     ]
    },
    {
     "name": "stdout",
     "output_type": "stream",
     "text": [
      "✅ Epoch 8/30 | Train Loss: 1.467139 | Val Loss: 1.615297\n"
     ]
    },
    {
     "name": "stderr",
     "output_type": "stream",
     "text": [
      "Epoch 9/30 [Training]: 100%|██████████| 10600/10600 [04:35<00:00, 38.41it/s, loss=0.488] \n",
      "Epoch 9/30 [Validation]: 100%|██████████| 2663/2663 [00:16<00:00, 160.26it/s, val_loss=0.157] \n"
     ]
    },
    {
     "name": "stdout",
     "output_type": "stream",
     "text": [
      "✅ Epoch 9/30 | Train Loss: 1.454806 | Val Loss: 1.652392\n"
     ]
    },
    {
     "name": "stderr",
     "output_type": "stream",
     "text": [
      "Epoch 10/30 [Training]: 100%|██████████| 10600/10600 [04:38<00:00, 38.05it/s, loss=0.491] \n",
      "Epoch 10/30 [Validation]: 100%|██████████| 2663/2663 [00:16<00:00, 161.01it/s, val_loss=0.16]  \n"
     ]
    },
    {
     "name": "stdout",
     "output_type": "stream",
     "text": [
      "✅ Epoch 10/30 | Train Loss: 1.443836 | Val Loss: 1.648941\n"
     ]
    },
    {
     "name": "stderr",
     "output_type": "stream",
     "text": [
      "Epoch 11/30 [Training]: 100%|██████████| 10600/10600 [04:12<00:00, 42.06it/s, loss=0.572] \n",
      "Epoch 11/30 [Validation]: 100%|██████████| 2663/2663 [00:13<00:00, 197.62it/s, val_loss=0.152] \n"
     ]
    },
    {
     "name": "stdout",
     "output_type": "stream",
     "text": [
      "✅ Epoch 11/30 | Train Loss: 1.434957 | Val Loss: 1.564085\n"
     ]
    },
    {
     "name": "stderr",
     "output_type": "stream",
     "text": [
      "Epoch 12/30 [Training]: 100%|██████████| 10600/10600 [04:59<00:00, 35.41it/s, loss=0.434] \n",
      "Epoch 12/30 [Validation]: 100%|██████████| 2663/2663 [00:16<00:00, 158.21it/s, val_loss=0.16]  \n"
     ]
    },
    {
     "name": "stdout",
     "output_type": "stream",
     "text": [
      "✅ Epoch 12/30 | Train Loss: 1.419096 | Val Loss: 1.626397\n"
     ]
    },
    {
     "name": "stderr",
     "output_type": "stream",
     "text": [
      "Epoch 13/30 [Training]: 100%|██████████| 10600/10600 [05:03<00:00, 34.97it/s, loss=0.447] \n",
      "Epoch 13/30 [Validation]: 100%|██████████| 2663/2663 [00:19<00:00, 138.51it/s, val_loss=0.157] \n"
     ]
    },
    {
     "name": "stdout",
     "output_type": "stream",
     "text": [
      "✅ Epoch 13/30 | Train Loss: 1.406120 | Val Loss: 1.656583\n"
     ]
    },
    {
     "name": "stderr",
     "output_type": "stream",
     "text": [
      "Epoch 14/30 [Training]: 100%|██████████| 10600/10600 [05:51<00:00, 30.17it/s, loss=0.394] \n",
      "Epoch 14/30 [Validation]: 100%|██████████| 2663/2663 [00:21<00:00, 122.07it/s, val_loss=0.162] \n"
     ]
    },
    {
     "name": "stdout",
     "output_type": "stream",
     "text": [
      "✅ Epoch 14/30 | Train Loss: 1.398207 | Val Loss: 1.605464\n"
     ]
    },
    {
     "name": "stderr",
     "output_type": "stream",
     "text": [
      "Epoch 15/30 [Training]: 100%|██████████| 10600/10600 [07:48<00:00, 22.60it/s, loss=0.387] \n",
      "Epoch 15/30 [Validation]: 100%|██████████| 2663/2663 [00:23<00:00, 111.52it/s, val_loss=0.154] \n"
     ]
    },
    {
     "name": "stdout",
     "output_type": "stream",
     "text": [
      "✅ Epoch 15/30 | Train Loss: 1.383218 | Val Loss: 1.533420\n"
     ]
    },
    {
     "name": "stderr",
     "output_type": "stream",
     "text": [
      "Epoch 16/30 [Training]: 100%|██████████| 10600/10600 [06:35<00:00, 26.83it/s, loss=0.379] \n",
      "Epoch 16/30 [Validation]: 100%|██████████| 2663/2663 [00:24<00:00, 107.80it/s, val_loss=0.158] \n"
     ]
    },
    {
     "name": "stdout",
     "output_type": "stream",
     "text": [
      "✅ Epoch 16/30 | Train Loss: 1.373949 | Val Loss: 1.524190\n"
     ]
    },
    {
     "name": "stderr",
     "output_type": "stream",
     "text": [
      "Epoch 17/30 [Training]: 100%|██████████| 10600/10600 [08:52<00:00, 19.89it/s, loss=0.378] \n",
      "Epoch 17/30 [Validation]: 100%|██████████| 2663/2663 [00:47<00:00, 55.60it/s, val_loss=0.159] \n"
     ]
    },
    {
     "name": "stdout",
     "output_type": "stream",
     "text": [
      "✅ Epoch 17/30 | Train Loss: 1.367218 | Val Loss: 1.518413\n"
     ]
    },
    {
     "name": "stderr",
     "output_type": "stream",
     "text": [
      "Epoch 18/30 [Training]: 100%|██████████| 10600/10600 [10:02<00:00, 17.58it/s, loss=0.403] \n",
      "Epoch 18/30 [Validation]: 100%|██████████| 2663/2663 [00:17<00:00, 149.18it/s, val_loss=0.155] \n"
     ]
    },
    {
     "name": "stdout",
     "output_type": "stream",
     "text": [
      "✅ Epoch 18/30 | Train Loss: 1.361842 | Val Loss: 1.510969\n"
     ]
    },
    {
     "name": "stderr",
     "output_type": "stream",
     "text": [
      "Epoch 19/30 [Training]: 100%|██████████| 10600/10600 [05:04<00:00, 34.85it/s, loss=0.445] \n",
      "Epoch 19/30 [Validation]: 100%|██████████| 2663/2663 [00:22<00:00, 119.76it/s, val_loss=0.148] \n"
     ]
    },
    {
     "name": "stdout",
     "output_type": "stream",
     "text": [
      "✅ Epoch 19/30 | Train Loss: 1.358290 | Val Loss: 1.500045\n"
     ]
    },
    {
     "name": "stderr",
     "output_type": "stream",
     "text": [
      "Epoch 20/30 [Training]: 100%|██████████| 10600/10600 [05:49<00:00, 30.37it/s, loss=0.458] \n",
      "Epoch 20/30 [Validation]: 100%|██████████| 2663/2663 [00:27<00:00, 95.93it/s, val_loss=0.144]  \n"
     ]
    },
    {
     "name": "stdout",
     "output_type": "stream",
     "text": [
      "✅ Epoch 20/30 | Train Loss: 1.354532 | Val Loss: 1.493705\n"
     ]
    },
    {
     "name": "stderr",
     "output_type": "stream",
     "text": [
      "Epoch 21/30 [Training]: 100%|██████████| 10600/10600 [05:28<00:00, 32.29it/s, loss=0.513] \n",
      "Epoch 21/30 [Validation]: 100%|██████████| 2663/2663 [00:17<00:00, 154.37it/s, val_loss=0.143] \n"
     ]
    },
    {
     "name": "stdout",
     "output_type": "stream",
     "text": [
      "✅ Epoch 21/30 | Train Loss: 1.349515 | Val Loss: 1.498892\n"
     ]
    },
    {
     "name": "stderr",
     "output_type": "stream",
     "text": [
      "Epoch 22/30 [Training]: 100%|██████████| 10600/10600 [04:51<00:00, 36.32it/s, loss=0.477] \n",
      "Epoch 22/30 [Validation]: 100%|██████████| 2663/2663 [00:16<00:00, 163.86it/s, val_loss=0.141] \n"
     ]
    },
    {
     "name": "stdout",
     "output_type": "stream",
     "text": [
      "✅ Epoch 22/30 | Train Loss: 1.343355 | Val Loss: 1.496030\n"
     ]
    },
    {
     "name": "stderr",
     "output_type": "stream",
     "text": [
      "Epoch 23/30 [Training]: 100%|██████████| 10600/10600 [04:59<00:00, 35.36it/s, loss=0.523] \n",
      "Epoch 23/30 [Validation]: 100%|██████████| 2663/2663 [00:19<00:00, 139.57it/s, val_loss=0.142] \n"
     ]
    },
    {
     "name": "stdout",
     "output_type": "stream",
     "text": [
      "✅ Epoch 23/30 | Train Loss: 1.338426 | Val Loss: 1.490543\n"
     ]
    },
    {
     "name": "stderr",
     "output_type": "stream",
     "text": [
      "Epoch 24/30 [Training]: 100%|██████████| 10600/10600 [06:09<00:00, 28.65it/s, loss=0.569] \n",
      "Epoch 24/30 [Validation]: 100%|██████████| 2663/2663 [00:21<00:00, 124.28it/s, val_loss=0.139] \n"
     ]
    },
    {
     "name": "stdout",
     "output_type": "stream",
     "text": [
      "✅ Epoch 24/30 | Train Loss: 1.333520 | Val Loss: 1.483564\n"
     ]
    },
    {
     "name": "stderr",
     "output_type": "stream",
     "text": [
      "Epoch 25/30 [Training]: 100%|██████████| 10600/10600 [04:41<00:00, 37.60it/s, loss=0.548] \n",
      "Epoch 25/30 [Validation]: 100%|██████████| 2663/2663 [00:16<00:00, 166.03it/s, val_loss=0.136] \n"
     ]
    },
    {
     "name": "stdout",
     "output_type": "stream",
     "text": [
      "✅ Epoch 25/30 | Train Loss: 1.329138 | Val Loss: 1.479642\n"
     ]
    },
    {
     "name": "stderr",
     "output_type": "stream",
     "text": [
      "Epoch 26/30 [Training]: 100%|██████████| 10600/10600 [04:31<00:00, 39.02it/s, loss=0.624] \n",
      "Epoch 26/30 [Validation]: 100%|██████████| 2663/2663 [00:16<00:00, 165.07it/s, val_loss=0.136] \n"
     ]
    },
    {
     "name": "stdout",
     "output_type": "stream",
     "text": [
      "✅ Epoch 26/30 | Train Loss: 1.325548 | Val Loss: 1.481743\n"
     ]
    },
    {
     "name": "stderr",
     "output_type": "stream",
     "text": [
      "Epoch 27/30 [Training]: 100%|██████████| 10600/10600 [04:45<00:00, 37.08it/s, loss=0.523] \n",
      "Epoch 27/30 [Validation]: 100%|██████████| 2663/2663 [00:16<00:00, 165.55it/s, val_loss=0.135] \n"
     ]
    },
    {
     "name": "stdout",
     "output_type": "stream",
     "text": [
      "✅ Epoch 27/30 | Train Loss: 1.323482 | Val Loss: 1.474842\n"
     ]
    },
    {
     "name": "stderr",
     "output_type": "stream",
     "text": [
      "Epoch 28/30 [Training]: 100%|██████████| 10600/10600 [04:48<00:00, 36.69it/s, loss=0.563] \n",
      "Epoch 28/30 [Validation]: 100%|██████████| 2663/2663 [00:16<00:00, 161.73it/s, val_loss=0.132] \n"
     ]
    },
    {
     "name": "stdout",
     "output_type": "stream",
     "text": [
      "✅ Epoch 28/30 | Train Loss: 1.319558 | Val Loss: 1.479017\n"
     ]
    },
    {
     "name": "stderr",
     "output_type": "stream",
     "text": [
      "Epoch 29/30 [Training]: 100%|██████████| 10600/10600 [04:51<00:00, 36.35it/s, loss=0.57]  \n",
      "Epoch 29/30 [Validation]: 100%|██████████| 2663/2663 [00:16<00:00, 164.46it/s, val_loss=0.132] \n"
     ]
    },
    {
     "name": "stdout",
     "output_type": "stream",
     "text": [
      "✅ Epoch 29/30 | Train Loss: 1.318581 | Val Loss: 1.486059\n"
     ]
    },
    {
     "name": "stderr",
     "output_type": "stream",
     "text": [
      "Epoch 30/30 [Training]: 100%|██████████| 10600/10600 [04:46<00:00, 37.05it/s, loss=0.642] \n",
      "Epoch 30/30 [Validation]: 100%|██████████| 2663/2663 [00:16<00:00, 163.62it/s, val_loss=0.132] \n"
     ]
    },
    {
     "name": "stdout",
     "output_type": "stream",
     "text": [
      "✅ Epoch 30/30 | Train Loss: 1.315708 | Val Loss: 1.488970\n",
      "Best model loaded with loss: 1.4748423282788676\n"
     ]
    },
    {
     "data": {
      "image/png": "[encoded data removed]",
      "text/plain": [
       "<Figure size 1200x600 with 1 Axes>"
      ]
     },
     "metadata": {},
     "output_type": "display_data"
    },
    {
     "name": "stdout",
     "output_type": "stream",
     "text": [
      "\n",
      "--- Metrics on Original Volume Scale ---\n",
      "MSE (Original Volume): 252888932679680.0000\n",
      "MAE (Original Volume): 4210130.0000\n",
      "R² (Original Volume): -0.0067\n"
     ]
    }
   ],
   "source": [
    "# --- Imports ---\n",
    "import torch\n",
    "import torch.nn as nn\n",
    "import pandas as pd\n",
    "import numpy as np\n",
    "from sklearn.preprocessing import StandardScaler, LabelEncoder\n",
    "from torch.utils.data import Dataset, DataLoader\n",
    "import matplotlib.pyplot as plt\n",
    "import copy\n",
    "from tqdm import tqdm\n",
    "from torch.optim.lr_scheduler import ReduceLROnPlateau\n",
    "import random\n",
    "import torch.nn.functional as F\n",
    "\n",
    "SEED = 3407\n",
    "\n",
    "random.seed(SEED)\n",
    "np.random.seed(SEED)\n",
    "torch.manual_seed(SEED)\n",
    "torch.cuda.manual_seed_all(SEED)\n",
    "\n",
    "# (Optional but good practice)\n",
    "torch.backends.cudnn.deterministic = True\n",
    "torch.backends.cudnn.benchmark = False\n",
    "\n",
    "\n",
    "\n",
    "# --- Device Configuration ---\n",
    "device = torch.device('cuda' if torch.cuda.is_available() else 'cpu')\n",
    "\n",
    "# --- Load Data ---\n",
    "data = pd.read_parquet('data/volume_pred.parquet')  # adjust path if needed\n",
    "data = data.sort_values(['ticker', 'date'])\n",
    "data = data[data['VOL'] >= 1].reset_index(drop=True)\n",
    "data['sentiment_score'] = data['sentiment_score'].fillna(0)\n",
    "\n",
    "# --- Feature Engineering ---\n",
    "data['log_vol'] = np.log1p(data['VOL'])\n",
    "\n",
    "# Encode ticker\n",
    "ticker_encoder = LabelEncoder()\n",
    "data['ticker_encoded'] = ticker_encoder.fit_transform(data['ticker'])\n",
    "\n",
    "# Define features\n",
    "input_features = [col for col in data.columns if col not in ['VOL', 'date', 'ticker', 'log_vol']]\n",
    "# Drop problematic features\n",
    "problematic_features = ['execid', 'distcd']\n",
    "input_features = [col for col in input_features if col not in problematic_features]\n",
    "\n",
    "# --- Train/Test Split ---\n",
    "def train_test_split_time_series(df, stock_col='ticker', date_col='date', test_ratio=0.2):\n",
    "    train_dfs, test_dfs = [], []\n",
    "    for stock, group in df.groupby(stock_col):\n",
    "        group = group.sort_values(date_col)\n",
    "        split_idx = int(len(group) * (1 - test_ratio))\n",
    "        train_dfs.append(group.iloc[:split_idx])\n",
    "        test_dfs.append(group.iloc[split_idx:])\n",
    "    return pd.concat(train_dfs), pd.concat(test_dfs)\n",
    "\n",
    "train_data, test_data = train_test_split_time_series(data)\n",
    "\n",
    "# --- Scaling ---\n",
    "scaler = StandardScaler()\n",
    "scaler.fit(train_data[input_features])\n",
    "train_data[input_features] = scaler.transform(train_data[input_features])\n",
    "test_data[input_features] = scaler.transform(test_data[input_features])\n",
    "\n",
    "for col in input_features:\n",
    "    if not np.isfinite(train_data[col]).all():\n",
    "        print(f\"⚠️ Feature {col} has NaN or Inf after scaling!\")\n",
    "bad_rows = ~np.isfinite(train_data[input_features]).all(axis=1)\n",
    "print(train_data.loc[bad_rows])\n",
    "\n",
    "assert np.isfinite(train_data[input_features].values).all(), \"Train data has NaN or Inf!\"\n",
    "assert np.isfinite(test_data[input_features].values).all(), \"Test data has NaN or Inf!\"\n",
    "assert np.isfinite(train_data['log_vol'].values).all(), \"Train target has NaN or InF!\"\n",
    "# --- Dataset Class ---\n",
    "class StockVolumeDataset(Dataset):\n",
    "    def __init__(self, df, input_features, target_col='log_vol', time_steps=10):\n",
    "        self.features = df[input_features].values\n",
    "        self.targets = df[target_col].values\n",
    "        self.time_steps = time_steps\n",
    "        self.X, self.y = self.build_sequences()\n",
    "\n",
    "    def build_sequences(self):\n",
    "        X_seq, y_seq = [], []\n",
    "        for i in range(len(self.features) - self.time_steps):\n",
    "            X_seq.append(self.features[i:i+self.time_steps])\n",
    "            y_seq.append(self.targets[i+self.time_steps])\n",
    "        return torch.tensor(np.array(X_seq), dtype=torch.float32), torch.tensor(np.array(y_seq), dtype=torch.float32).unsqueeze(1)\n",
    "\n",
    "    def __len__(self):\n",
    "        return len(self.X)\n",
    "\n",
    "    def __getitem__(self, idx):\n",
    "        return self.X[idx], self.y[idx]\n",
    "\n",
    "# --- DataLoader ---\n",
    "time_steps = 10\n",
    "train_dataset = StockVolumeDataset(train_data, input_features, time_steps=time_steps)\n",
    "test_dataset = StockVolumeDataset(test_data, input_features, time_steps=time_steps)\n",
    "\n",
    "train_loader = DataLoader(train_dataset, batch_size=32, shuffle=False)\n",
    "test_loader = DataLoader(test_dataset, batch_size=32, shuffle=False)\n",
    "\n",
    "# --- Model with Multi-head Attention ---\n",
    "class MultiHeadAttentionLSTM(nn.Module):\n",
    "    def __init__(self, input_size, hidden_size=128, num_layers=3, num_heads=4, dropout=0.05):\n",
    "        super(MultiHeadAttentionLSTM, self).__init__()\n",
    "        self.lstm = nn.LSTM(\n",
    "            input_size=input_size,\n",
    "            hidden_size=hidden_size,\n",
    "            num_layers=num_layers,\n",
    "            batch_first=True,\n",
    "            dropout=dropout\n",
    "        )\n",
    "        self.multihead_attn = nn.MultiheadAttention(embed_dim=hidden_size, num_heads=num_heads, batch_first=True)\n",
    "        self.fc1 = nn.Linear(hidden_size, hidden_size // 2)\n",
    "        self.fc2 = nn.Linear(hidden_size // 2, 1)\n",
    "\n",
    "    def forward(self, x):\n",
    "        # LSTM output\n",
    "        lstm_out, _ = self.lstm(x)  # shape: (batch_size, seq_len, hidden_size)\n",
    "        \n",
    "        # Self-attention\n",
    "        attn_output, _ = self.multihead_attn(lstm_out, lstm_out, lstm_out)  # shape: (batch_size, seq_len, hidden_size)\n",
    "        \n",
    "        # Pooling: take mean across time dimension\n",
    "        context_vector = torch.mean(attn_output, dim=1)  # (batch_size, hidden_size)\n",
    "        \n",
    "        hidden = F.relu(self.fc1(context_vector))\n",
    "        output = self.fc2(hidden)\n",
    "        return output\n",
    "\n",
    "# --- Instantiate Improved Model ---\n",
    "model = MultiHeadAttentionLSTM(input_size=len(input_features)).to(device)\n",
    "\n",
    "\n",
    "# --- New Optimizer with lower weight_decay ---\n",
    "optimizer = torch.optim.Adam(model.parameters(), lr=1e-5, weight_decay=5e-6)\n",
    "\n",
    "# --- Scheduler ---\n",
    "scheduler = ReduceLROnPlateau(optimizer, mode='min', patience=2, factor=0.5, threshold=1e-4, threshold_mode='rel')\n",
    "\n",
    "# --- Other configs ---\n",
    "criterion = nn.MSELoss()\n",
    "best_model_wts = copy.deepcopy(model.state_dict())\n",
    "best_loss = np.inf\n",
    "patience = 5\n",
    "counter = 0\n",
    "num_epochs = 30\n",
    "\n",
    "# --- Start Training (Same Loop) ---\n",
    "for epoch in range(num_epochs):\n",
    "    model.train()\n",
    "    train_losses = []\n",
    "    train_loader_iter = tqdm(train_loader, desc=f\"Epoch {epoch+1}/{num_epochs} [Training]\")\n",
    "    \n",
    "    for X_batch, y_batch in train_loader_iter:\n",
    "        X_batch, y_batch = X_batch.to(device), y_batch.to(device)\n",
    "        optimizer.zero_grad()\n",
    "        preds = model(X_batch)\n",
    "        loss = criterion(preds, y_batch)\n",
    "        loss.backward()\n",
    "        torch.nn.utils.clip_grad_norm_(model.parameters(), max_norm=1.0)\n",
    "        optimizer.step()\n",
    "        train_losses.append(loss.item())\n",
    "\n",
    "        train_loader_iter.set_postfix(loss=loss.item())\n",
    "    \n",
    "    model.eval()\n",
    "    val_losses = []\n",
    "    val_loader_iter = tqdm(test_loader, desc=f\"Epoch {epoch+1}/{num_epochs} [Validation]\")\n",
    "    \n",
    "    with torch.no_grad():\n",
    "        for X_val, y_val in val_loader_iter:\n",
    "            X_val, y_val = X_val.to(device), y_val.to(device)\n",
    "            val_preds = model(X_val)\n",
    "            val_loss = criterion(val_preds, y_val)\n",
    "            val_losses.append(val_loss.item())\n",
    "\n",
    "            val_loader_iter.set_postfix(val_loss=val_loss.item())\n",
    "\n",
    "    val_loss_epoch = np.mean(val_losses)\n",
    "    scheduler.step(val_loss_epoch)\n",
    "\n",
    "    # Print epoch-level summary\n",
    "    tqdm.write(f\"✅ Epoch {epoch+1}/{num_epochs} | Train Loss: {np.mean(train_losses):.6f} | Val Loss: {val_loss_epoch:.6f}\")\n",
    "\n",
    "    # Early stopping and best model saving\n",
    "    if np.isnan(val_loss_epoch):\n",
    "        print(\"⚠️ Validation loss became NaN! Stopping.\")\n",
    "        break\n",
    "\n",
    "    if val_loss_epoch < best_loss:\n",
    "        best_loss = val_loss_epoch\n",
    "        best_model_wts = copy.deepcopy(model.state_dict())\n",
    "        counter = 0\n",
    "    else:\n",
    "        counter += 1\n",
    "        if counter >= patience:\n",
    "            print(\"✅ Early stopping triggered.\")\n",
    "            break\n",
    "\n",
    "# --- Load Best Model ---\n",
    "model.load_state_dict(best_model_wts)\n",
    "print(\"Best model loaded with loss:\", best_loss)\n",
    "\n",
    "# --- Evaluation ---\n",
    "model.eval()\n",
    "pred_list, true_list = [], []\n",
    "with torch.no_grad():\n",
    "    for X_batch, y_batch in test_loader:\n",
    "        X_batch = X_batch.to(device)\n",
    "        preds = model(X_batch).cpu().numpy()\n",
    "        true_list.append(y_batch.cpu().numpy())\n",
    "        pred_list.append(preds)\n",
    "\n",
    "pred_all_log = np.vstack(pred_list)\n",
    "true_all_log = np.vstack(true_list)\n",
    "\n",
    "# --- Inverse Transform ---\n",
    "pred_all_original = np.expm1(pred_all_log)\n",
    "true_all_original = np.expm1(true_all_log)\n",
    "\n",
    "# --- Plot in Log Space ---\n",
    "plt.figure(figsize=(12,6))\n",
    "plt.plot(true_all_log[:200], label='True log_vol')\n",
    "plt.plot(pred_all_log[:200], label='Predicted log_vol', linestyle='--')\n",
    "plt.title('Prediction vs True (First 200 samples, log space)')\n",
    "plt.legend()\n",
    "plt.grid(True)\n",
    "plt.show()\n",
    "\n",
    "# --- Evaluate on Original Scale ---\n",
    "from sklearn.metrics import mean_squared_error, mean_absolute_error, r2_score\n",
    "\n",
    "mse_orig = mean_squared_error(true_all_original, pred_all_original)\n",
    "mae_orig = mean_absolute_error(true_all_original, pred_all_original)\n",
    "r2_orig = r2_score(true_all_original, pred_all_original)\n",
    "\n",
    "print(f\"\\n--- Metrics on Original Volume Scale ---\")\n",
    "print(f\"MSE (Original Volume): {mse_orig:.4f}\")\n",
    "print(f\"MAE (Original Volume): {mae_orig:.4f}\")\n",
    "print(f\"R² (Original Volume): {r2_orig:.4f}\")"
   ]
  }
 ],
 "metadata": {
  "kernelspec": {
   "display_name": "Python 3",
   "language": "python",
   "name": "python3"
  },
  "language_info": {
   "codemirror_mode": {
    "name": "ipython",
    "version": 3
   },
   "file_extension": ".py",
   "mimetype": "text/x-python",
   "name": "python",
   "nbconvert_exporter": "python",
   "pygments_lexer": "ipython3",
   "version": "3.11.11"
  }
 },
 "nbformat": 4,
 "nbformat_minor": 5
}
